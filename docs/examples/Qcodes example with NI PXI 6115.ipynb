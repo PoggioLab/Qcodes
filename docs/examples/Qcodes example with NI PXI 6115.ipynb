{
 "cells": [
  {
   "cell_type": "code",
   "execution_count": 1,
   "metadata": {},
   "outputs": [],
   "source": [
    "import qcodes as qc\n",
    "from qcodes import Parameter\n",
    "from qcodes.dataset.measurements import Measurement\n",
    "from qcodes.dataset.plotting import plot_by_id\n",
    "from qcodes.dataset.data_set import load_by_id\n",
    "from qcodes.instrument_drivers.NI.PXI_6251 import PXI_6251\n",
    "\n",
    "import nidaqmx\n",
    "from matplotlib import pyplot as plt\n",
    "import numpy as np\n",
    "\n",
    "import time\n",
    "\n",
    "from lmfit import Model"
   ]
  },
  {
   "cell_type": "code",
   "execution_count": 2,
   "metadata": {},
   "outputs": [],
   "source": [
    "daq = PXI_6251('daq', 'PXI-6115')"
   ]
  },
  {
   "cell_type": "markdown",
   "metadata": {},
   "source": [
    "# Start/stop"
   ]
  },
  {
   "cell_type": "code",
   "execution_count": 11,
   "metadata": {},
   "outputs": [
    {
     "data": {
      "text/plain": [
       "833332"
      ]
     },
     "execution_count": 11,
     "metadata": {},
     "output_type": "execute_result"
    }
   ],
   "source": [
    "sampling_rate_Hz = 333333\n",
    "sampling_time_s = 2.5\n",
    "N_samps = int(sampling_rate_Hz*sampling_time_s)\n",
    "N_samps"
   ]
  },
  {
   "cell_type": "code",
   "execution_count": 4,
   "metadata": {},
   "outputs": [],
   "source": [
    "daq.add_task(\"ai_task\")"
   ]
  },
  {
   "cell_type": "code",
   "execution_count": 5,
   "metadata": {},
   "outputs": [],
   "source": [
    "daq.ai_task.add_ai_volt_channel('AWG','PXI-6115/ai0',\n",
    "        terminal_config=nidaqmx.constants.TerminalConfiguration.PSEUDODIFFERENTIAL,\n",
    "        min_val=-5,\n",
    "        max_val=5)"
   ]
  },
  {
   "cell_type": "code",
   "execution_count": 6,
   "metadata": {},
   "outputs": [],
   "source": [
    "daq.ai_task.add_sample_clock(sampling_rate_Hz, source='/PXI-6115/ai/SampleClockTimebase',\n",
    "                             sample_mode=nidaqmx.constants.AcquisitionType.FINITE,\n",
    "                             samps_per_chan=N_samps)\n",
    "\n",
    "daq.ai_task.start_trigger.trig_type.set(nidaqmx.constants.TriggerType.DIGITAL_EDGE)\n",
    "daq.ai_task.start_trigger.dig_edge_src.set('/PXI-6115/PFI0')"
   ]
  },
  {
   "cell_type": "code",
   "execution_count": 7,
   "metadata": {},
   "outputs": [],
   "source": [
    "daq.ai_task.AIRead.prepare_AIRead()"
   ]
  },
  {
   "cell_type": "code",
   "execution_count": 8,
   "metadata": {},
   "outputs": [],
   "source": [
    "daq.ai_task.start()\n",
    "\n",
    "while not daq.ai_task._task.is_task_done():\n",
    "    time.sleep(0.1)\n",
    "\n",
    "res = daq.ai_task.AIRead.get()\n",
    "\n",
    "daq.ai_task.stop()"
   ]
  },
  {
   "cell_type": "code",
   "execution_count": 10,
   "metadata": {},
   "outputs": [
    {
     "data": {
      "text/plain": [
       "833332"
      ]
     },
     "execution_count": 10,
     "metadata": {},
     "output_type": "execute_result"
    }
   ],
   "source": [
    "len(res)"
   ]
  },
  {
   "cell_type": "code",
   "execution_count": 12,
   "metadata": {},
   "outputs": [],
   "source": [
    "daq.ai_task.close()"
   ]
  },
  {
   "cell_type": "markdown",
   "metadata": {},
   "source": [
    "# Counter"
   ]
  },
  {
   "cell_type": "markdown",
   "metadata": {},
   "source": [
    "## counter test"
   ]
  },
  {
   "cell_type": "code",
   "execution_count": 50,
   "metadata": {},
   "outputs": [
    {
     "data": {
      "text/plain": [
       "166666"
      ]
     },
     "execution_count": 50,
     "metadata": {},
     "output_type": "execute_result"
    }
   ],
   "source": [
    "sampling_rate_Hz = 333333\n",
    "sampling_time_s = 0.5\n",
    "N_samps = int(sampling_rate_Hz*sampling_time_s)\n",
    "N_samps"
   ]
  },
  {
   "cell_type": "code",
   "execution_count": 57,
   "metadata": {},
   "outputs": [],
   "source": [
    "daq.add_task(\"co_task\")\n",
    "\n",
    "daq.co_task.add_co_freq_channel('co', 'PXI-6115/ctr0', freq=sampling_rate_Hz)\n",
    "\n",
    "daq.co_task.add_implicit_clock(sample_mode=nidaqmx.constants.AcquisitionType.FINITE,\n",
    "                               samps_per_chan=N_samps)\n",
    "\n",
    "daq.co_task.start_trigger.trig_type.set(nidaqmx.constants.TriggerType.DIGITAL_EDGE)\n",
    "daq.co_task.start_trigger.dig_edge_src.set('/PXI-6115/PFI0')\n",
    "daq.co_task.start_trigger.retriggerable.set(True)"
   ]
  },
  {
   "cell_type": "code",
   "execution_count": 58,
   "metadata": {},
   "outputs": [],
   "source": [
    "daq.co_task.start()"
   ]
  },
  {
   "cell_type": "code",
   "execution_count": 59,
   "metadata": {},
   "outputs": [],
   "source": [
    "daq.co_task.stop()"
   ]
  },
  {
   "cell_type": "code",
   "execution_count": 60,
   "metadata": {},
   "outputs": [],
   "source": [
    "daq.co_task.close()"
   ]
  },
  {
   "cell_type": "markdown",
   "metadata": {},
   "source": [
    "## with synced AI acquisition"
   ]
  },
  {
   "cell_type": "code",
   "execution_count": 187,
   "metadata": {},
   "outputs": [
    {
     "data": {
      "text/plain": [
       "(83335, 7, 11, 83346, 0.25000225000225, 0.25003525003525)"
      ]
     },
     "execution_count": 187,
     "metadata": {},
     "output_type": "execute_result"
    }
   ],
   "source": [
    "sampling_rate_Hz = 333333\n",
    "sampling_time_s = 0.5/2\n",
    "N_samps = int(sampling_rate_Hz*sampling_time_s + 2)\n",
    "dN_samps = 18 - N_samps % 2**4\n",
    "N_co = N_samps + dN_samps\n",
    "act_sampling_time_s = (N_samps-1)/sampling_rate_Hz\n",
    "co_time_s = (N_co-1)/sampling_rate_Hz\n",
    "N_samps, N_samps % 2**4, dN_samps, N_co, act_sampling_time_s, co_time_s"
   ]
  },
  {
   "cell_type": "code",
   "execution_count": 188,
   "metadata": {},
   "outputs": [],
   "source": [
    "daq.add_task(\"ai_task\")\n",
    "\n",
    "daq.ai_task.add_ai_volt_channel('AWG','PXI-6115/ai0',\n",
    "        terminal_config=nidaqmx.constants.TerminalConfiguration.PSEUDODIFFERENTIAL,\n",
    "        min_val=-5,\n",
    "        max_val=5)\n",
    "\n",
    "daq.ai_task.AWG.ai_coupling.set(nidaqmx.constants.Coupling.DC)\n",
    "\n",
    "daq.ai_task.add_sample_clock(sampling_rate_Hz, source='/PXI-6115/Ctr0InternalOutput',\n",
    "                             sample_mode=nidaqmx.constants.AcquisitionType.CONTINUOUS,\n",
    "                             samps_per_chan=N_samps + 1000)"
   ]
  },
  {
   "cell_type": "code",
   "execution_count": 189,
   "metadata": {},
   "outputs": [],
   "source": [
    "daq.add_task(\"co_task\")\n",
    "\n",
    "daq.co_task.add_co_freq_channel('co', 'PXI-6115/ctr0', freq=sampling_rate_Hz)\n",
    "\n",
    "daq.co_task.add_implicit_clock(sample_mode=nidaqmx.constants.AcquisitionType.FINITE,\n",
    "                               samps_per_chan=N_co)\n",
    "\n",
    "daq.co_task.start_trigger.trig_type.set(nidaqmx.constants.TriggerType.DIGITAL_EDGE)\n",
    "daq.co_task.start_trigger.dig_edge_src.set('/PXI-6115/PFI0')\n",
    "daq.co_task.start_trigger.retriggerable.set(True)"
   ]
  },
  {
   "cell_type": "code",
   "execution_count": 190,
   "metadata": {},
   "outputs": [],
   "source": [
    "daq.ai_task.AIRead.prepare_AIRead(setpointlist = tuple(np.arange(N_samps)/sampling_rate_Hz))"
   ]
  },
  {
   "cell_type": "code",
   "execution_count": 191,
   "metadata": {},
   "outputs": [],
   "source": [
    "daq.ai_task.start()\n",
    "daq.co_task.start()"
   ]
  },
  {
   "cell_type": "code",
   "execution_count": 294,
   "metadata": {},
   "outputs": [
    {
     "name": "stdout",
     "output_type": "stream",
     "text": [
      "samples: 5760\n",
      "samples: 23728\n",
      "samples: 41040\n",
      "samples: 58464\n",
      "samples: 76048\n",
      "final samples: 83344\n"
     ]
    }
   ],
   "source": [
    "while not daq.co_task.co.co_pulse_done.get():\n",
    "    if daq.ai_task._task.in_stream.avail_samp_per_chan > 0:\n",
    "        print(f\"samples: {daq.ai_task._task.in_stream.avail_samp_per_chan}\") \n",
    "    time.sleep(.05)\n",
    "\n",
    "print(f\"final samples: {daq.ai_task._task.in_stream.avail_samp_per_chan}\")"
   ]
  },
  {
   "cell_type": "code",
   "execution_count": 295,
   "metadata": {},
   "outputs": [],
   "source": [
    "res_co = np.array(daq.ai_task.AIRead.get())\n",
    "\n",
    "N_leftovers = 0 if (len(np.where(np.diff(res_co) < -1)[0]) == 0) else np.where(np.diff(res_co) < -1)[0][0] + 1\n",
    "\n",
    "res = res_co[N_leftovers:N_leftovers+N_samps]"
   ]
  },
  {
   "cell_type": "code",
   "execution_count": 296,
   "metadata": {},
   "outputs": [
    {
     "data": {
      "text/plain": [
       "[<matplotlib.lines.Line2D at 0x1a9c11972e8>]"
      ]
     },
     "execution_count": 296,
     "metadata": {},
     "output_type": "execute_result"
    },
    {
     "data": {
      "image/png": "[encoded data removed]",
      "text/plain": [
       "<Figure size 432x288 with 1 Axes>"
      ]
     },
     "metadata": {},
     "output_type": "display_data"
    }
   ],
   "source": [
    "plt.plot(daq.ai_task.AIRead.setpoints[0][0], res)"
   ]
  },
  {
   "cell_type": "code",
   "execution_count": 185,
   "metadata": {},
   "outputs": [],
   "source": [
    "daq.ai_task.stop()\n",
    "daq.co_task.stop()"
   ]
  },
  {
   "cell_type": "code",
   "execution_count": 186,
   "metadata": {},
   "outputs": [],
   "source": [
    "daq.ai_task.close()\n",
    "daq.co_task.close()"
   ]
  }
 ],
 "metadata": {
  "kernelspec": {
   "display_name": "Python 3",
   "language": "python",
   "name": "python3"
  },
  "language_info": {
   "codemirror_mode": {
    "name": "ipython",
    "version": 3
   },
   "file_extension": ".py",
   "mimetype": "text/x-python",
   "name": "python",
   "nbconvert_exporter": "python",
   "pygments_lexer": "ipython3",
   "version": "3.6.7"
  }
 },
 "nbformat": 4,
 "nbformat_minor": 2
}
