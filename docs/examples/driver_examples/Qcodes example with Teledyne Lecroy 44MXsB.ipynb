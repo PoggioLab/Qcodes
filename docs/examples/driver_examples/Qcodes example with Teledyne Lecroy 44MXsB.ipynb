{
 "cells": [
  {
   "cell_type": "markdown",
   "metadata": {},
   "source": [
    "# Qcodes example with Teledyne LeCroy 44MXs-B"
   ]
  },
  {
   "cell_type": "code",
   "execution_count": 32,
   "metadata": {},
   "outputs": [],
   "source": [
    "import qcodes as qc\n",
    "from qcodes.instrument_drivers.TeledyneLeCroy.TD44MXsB import TD44MXsB\n",
    "from qcodes.dataset.measurements import Measurement\n",
    "from qcodes.dataset.data_set import load_by_id\n",
    "from qcodes.dataset.data_export import get_data_by_id\n",
    "from qcodes.dataset.plotting import plot_by_id\n",
    "from qcodes.dataset.database import initialise_database"
   ]
  },
  {
   "cell_type": "code",
   "execution_count": 27,
   "metadata": {},
   "outputs": [
    {
     "name": "stdout",
     "output_type": "stream",
     "text": [
      "Activating auto-logging. Current session state plus future input saved.\n",
      "Filename       : C:\\Users\\He5user\\.qcodes\\logs\\command_history.log\n",
      "Mode           : append\n",
      "Output logging : True\n",
      "Raw input log  : False\n",
      "Timestamping   : True\n",
      "State          : active\n"
     ]
    },
    {
     "data": {
      "text/plain": [
       "<contextlib._GeneratorContextManager at 0x1adb6075be0>"
      ]
     },
     "execution_count": 27,
     "metadata": {},
     "output_type": "execute_result"
    }
   ],
   "source": [
    "import logging\n",
    "import qcodes.logger as logger\n",
    "from qcodes.logger import start_all_logging\n",
    "start_all_logging()"
   ]
  },
  {
   "cell_type": "code",
   "execution_count": 2,
   "metadata": {},
   "outputs": [],
   "source": [
    "from matplotlib import pyplot as plt\n",
    "import numpy as np\n",
    "import struct"
   ]
  },
  {
   "cell_type": "code",
   "execution_count": 3,
   "metadata": {},
   "outputs": [],
   "source": [
    "osc = TD44MXsB('osc', 'TCPIP0::192.168.1.7::INSTR')"
   ]
  },
  {
   "cell_type": "code",
   "execution_count": 4,
   "metadata": {},
   "outputs": [
    {
     "data": {
      "text/plain": [
       "TD44MXsB_test#no_sample#10@C:\\Users\\He5user/experiments.db\n",
       "----------------------------------------------------------"
      ]
     },
     "execution_count": 4,
     "metadata": {},
     "output_type": "execute_result"
    }
   ],
   "source": [
    "initialise_database()\n",
    "qc.new_experiment(name='TD44MXsB_test', sample_name='no_sample')"
   ]
  },
  {
   "cell_type": "code",
   "execution_count": null,
   "metadata": {},
   "outputs": [],
   "source": [
    "osc.C3.waveform.prepare_waveform()\n",
    "\n",
    "meas = Measurement()\n",
    "meas.register_parameter(osc.C3.waveform, paramtype='array')\n",
    "\n",
    "with meas.run() as datasaver:\n",
    "    waveform = osc.C3.waveform.get()\n",
    "    datasaver.add_result((osc.C3.waveform, waveform))\n",
    "    run_id = datasaver.run_id"
   ]
  },
  {
   "cell_type": "code",
   "execution_count": 77,
   "metadata": {},
   "outputs": [
    {
     "data": {
      "image/png": "[encoded data removed]",
      "text/plain": [
       "<Figure size 432x288 with 2 Axes>"
      ]
     },
     "metadata": {},
     "output_type": "display_data"
    }
   ],
   "source": [
    "ds = load_by_id(run_id)\n",
    "\n",
    "title = f\"Run #{run_id}, Experiment {ds.exp_name} ({ds.sample_name})\"\n",
    "param_labels = [f'{param.label} ({param.unit})' for param in ds.get_parameters()]\n",
    "param_names = [param.name for param in ds.get_parameters()]\n",
    "X, Y, Z = ds.get_data(*param_names)[0]\n",
    "\n",
    "fig, ax = plt.subplots()\n",
    "mesh = ax.pcolormesh(X-0.5, Y-0.5, Z, rasterized=True)\n",
    "#ax.axis([X.min(), X.max(), Y.min(), Y.max()])\n",
    "cax = plt.colorbar(mesh, ax=ax);\n",
    "\n",
    "ax.set_title(title)\n",
    "ax.set_xlabel(param_labels[0])\n",
    "ax.set_ylabel(param_labels[1])\n",
    "cax.set_label(param_labels[2])"
   ]
  },
  {
   "cell_type": "code",
   "execution_count": 64,
   "metadata": {
    "scrolled": false
   },
   "outputs": [
    {
     "name": "stdout",
     "output_type": "stream",
     "text": [
      "\"\n",
      "DESCRIPTOR_NAME    : WAVEDESC           \n",
      "TEMPLATE_NAME      : LECROY_2_3         \n",
      "COMM_TYPE          : byte               \n",
      "COMM_ORDER         : LOFIRST            \n",
      "WAVE_DESCRIPTOR    : 346                \n",
      "USER_TEXT          : 0                  \n",
      "RES_DESC1          : 0                  \n",
      "TRIGTIME_ARRAY     : 256                \n",
      "RIS_TIME_ARRAY     : 0                  \n",
      "RES_ARRAY1         : 0                  \n",
      "WAVE_ARRAY_1       : 16000032           \n",
      "WAVE_ARRAY_2       : 0                  \n",
      "RES_ARRAY2         : 0                  \n",
      "RES_ARRAY3         : 0                  \n",
      "INSTRUMENT_NAME    : LECROYWS44MXs-B    \n",
      "INSTRUMENT_NUMBER  : 69503              \n",
      "TRACE_LABEL        :                    \n",
      "RESERVED1          : 9248               \n",
      "RESERVED2          : 244                \n",
      "WAVE_ARRAY_COUNT   : 16000032           \n",
      "PNTS_PER_SCREEN    : 16000000           \n",
      "FIRST_VALID_PNT    : 0                  \n",
      "LAST_VALID_PNT     : 16000031           \n",
      "FIRST_POINT        : 0                  \n",
      "SPARSING_FACTOR    : 1                  \n",
      "SEGMENT_INDEX      : 0                  \n",
      "SUBARRAY_COUNT     : 16                 \n",
      "SWEEPS_PER_ACQ     : 1                  \n",
      "POINTS_PER_PAIR    : 0                  \n",
      "PAIR_OFFSET        : 0                  \n",
      "VERTICAL_GAIN      : 6.6419e-002        \n",
      "VERTICAL_OFFSET    : -0.0000e+000       \n",
      "MAX_VALUE          : 1.1900e+002        \n",
      "MIN_VALUE          : -1.2000e+002       \n",
      "NOMINAL_BITS       : 8                  \n",
      "NOM_SUBARRAY_COUNT : 16                 \n",
      "HORIZ_INTERVAL     : 1.0000e-008        \n",
      "HORIZ_OFFSET       : -2.56119780e-009   \n",
      "PIXEL_OFFSET       : -0.00000000e+000   \n",
      "VERTUNIT           : Unit Name = V\n",
      "HORUNIT            : Unit Name = S\n",
      "HORIZ_UNCERTAINTY  : 1.0000e-012        \n",
      "TRIGGER_TIME       : Date = DEC 18, 2018, Time = 17:18:20.992340637\n",
      "ACQ_DURATION       : 3.0000e-001        \n",
      "RECORD_TYPE        : single_sweep       \n",
      "PROCESSING_DONE    : no_processing      \n",
      "RESERVED5          : 0                  \n",
      "RIS_SWEEPS         : 1                  \n",
      "TIMEBASE           : 1_ms/div           \n",
      "VERT_COUPLING      : DC_1MOhm           \n",
      "PROBE_ATT          : 1.0000e+000        \n",
      "FIXED_VERT_GAIN    : 2_V/div            \n",
      "BANDWIDTH_LIMIT    : off                \n",
      "VERTICAL_VERNIER   : 1.0000e+000        \n",
      "ACQ_VERT_OFFSET    : 0.0000e+000        \n",
      "WAVE_SOURCE        : CHANNEL_3          \n",
      "\"\n",
      "\n"
     ]
    }
   ],
   "source": [
    "print(osc.visa_handle.query(\"C3:INSPECT? WAVEDESC\"))"
   ]
  },
  {
   "cell_type": "code",
   "execution_count": 65,
   "metadata": {},
   "outputs": [
    {
     "name": "stdout",
     "output_type": "stream",
     "text": [
      "\"\r\n",
      "/00\r\n",
      "000000              LECROY_2_3:  TEMPLATE\r\n",
      "                    8 66 111\r\n",
      ";\r\n",
      "; Explanation of the formats of waveforms and their descriptors on the\r\n",
      "; LeCroy Digital Oscilloscopes,\r\n",
      ";     Software Release 8.1.0, 98/09/29.\r\n",
      ";\r\n",
      "; A descriptor and/or a waveform consists of one or several logical data blocks\r\n",
      "; whose formats are explained below.\r\n",
      "; Usually, complete waveforms are read: at the minimum they consist of\r\n",
      ";       the basic descriptor block WAVEDESC\r\n",
      ";       a data array block.\r\n",
      "; Some more complex waveforms, e.g. Extrema data or the results of a Fourier\r\n",
      "; transform, may contain several data array blocks.\r\n",
      "; When there are more blocks, they are in the following sequence:\r\n",
      ";       the basic descriptor block WAVEDESC\r\n",
      ";       the history text descriptor block USERTEXT (may or may not be present)\r\n",
      ";       the time array block (for RIS and sequence acquisitions only)\r\n",
      ";       data array block\r\n",
      ";       auxiliary or second data array block\r\n",
      ";\r\n",
      "; In the following explanation, every element of a block is described by a\r\n",
      "; single line in the form\r\n",
      ";\r\n",
      "; <byte position>   <variable name>: <variable type> ; <comment>\r\n",
      ";\r\n",
      ";  where\r\n",
      ";\r\n",
      ";   <byte position> = position in bytes (decimal offset) of the variable,\r\n",
      ";                     relative to the beginning of the block.\r\n",
      ";\r\n",
      ";   <variable name> = name of the variable.\r\n",
      ";\r\n",
      ";   <variable type> = string        up to 16-character name\r\n",
      ";                                   terminated with a null byte\r\n",
      ";                       byte        08-bit signed data value\r\n",
      ";                       word        16-bit signed data value\r\n",
      ";                       long        32-bit signed data value\r\n",
      ";                      float        32-bit IEEE floating point value\r\n",
      ";\t\t\t\t\t\t\t\t\t with the format shown below\r\n",
      ";                                   31  30 .. 23   22 ... 0   bit position\r\n",
      ";                                   s   exponent   fraction\r\n",
      ";                                   where\r\n",
      ";                                   s = sign of the fraction\r\n",
      ";                                   exponent = 8 bit exponent e\r\n",
      ";                                   fraction = 23 bit fraction f\r\n",
      ";                                   and the final value is\r\n",
      ";                                   (-1)**s * 2**(e-127) * 1.f\r\n",
      ";                     double        64-bit IEEE floating point value\r\n",
      ";                                   with the format shown below\r\n",
      ";                                   63  62 .. 52   51 ... 0   bit position\r\n",
      ";                                   s   exponent   fraction\r\n",
      ";                                   where\r\n",
      ";                                   s = sign of the fraction\r\n",
      ";                                   exponent = 11 bit exponent e\r\n",
      ";                                   fraction = 52 bit fraction f\r\n",
      ";                                   and the final value is\r\n",
      ";                                   (-1)**s * 2**(e-1023) * 1.f\r\n",
      ";                       enum        enumerated value in the range 0 to N\r\n",
      ";                                   represented as a 16-bit data value.\r\n",
      ";                                   The list of values follows immediately.\r\n",
      ";                                   The integer is preceded by an _.\r\n",
      ";                 time_stamp        double precision floating point number,\r\n",
      ";                                   for the number of seconds and some bytes\r\n",
      ";                                   for minutes, hours, days, months and year.\r\n",
      ";\r\n",
      ";                                   double  seconds     (0 to 59)\r\n",
      ";                                   byte    minutes     (0 to 59)\r\n",
      ";                                   byte    hours       (0 to 23)\r\n",
      ";                                   byte    days        (1 to 31)\r\n",
      ";                                   byte    months      (1 to 12)\r\n",
      ";                                   word    year        (0 to 16000)\r\n",
      ";                                   word    unused\r\n",
      ";                                   There are 16 bytes in a time field.\r\n",
      ";                       data        byte, word or float, depending on the\r\n",
      ";                                   read-out mode reflected by the WAVEDESC\r\n",
      ";                                   variable COMM_TYPE, modifiable via the\r\n",
      ";                                   remote command COMM_FORMAT.\r\n",
      ";                       text        arbitrary length text string\r\n",
      ";                                   (maximum 160)\r\n",
      ";            unit_definition        a unit definition consists of a 48 character\r\n",
      ";                                   ASCII string terminated with a null byte\r\n",
      ";                                   for the unit name.\r\n",
      ";\r\n",
      ";==========================================================================\r\n",
      ";\r\n",
      "WAVEDESC: BLOCK\r\n",
      ";\r\n",
      "; Explanation of the wave descriptor block WAVEDESC;\r\n",
      ";\r\n",
      ";\r\n",
      "<  0>          DESCRIPTOR_NAME: string  ; the first 8 chars are always WAVEDESC\r\n",
      ";\r\n",
      "< 16>          TEMPLATE_NAME: string    \r\n",
      ";\r\n",
      "< 32>          COMM_TYPE: enum          ; chosen by remote command COMM_FORMAT\r\n",
      "               _0      byte             \r\n",
      "               _1      word             \r\n",
      "               endenum                  \r\n",
      ";\r\n",
      "< 34>          COMM_ORDER: enum         \r\n",
      "               _0      HIFIRST          \r\n",
      "               _1      LOFIRST          \r\n",
      "               endenum                  \r\n",
      ";\r\n",
      ";\r\n",
      "; The following variables of this basic wave descriptor block specify\r\n",
      "; the block lengths of all blocks of which the entire waveform (as it is\r\n",
      "; currently being read) is composed. If a block length is zero, this\r\n",
      "; block is (currently) not present.\r\n",
      ";\r\n",
      "; Blocks and arrays that are present will be found in the same order\r\n",
      "; as their descriptions below.\r\n",
      ";\r\n",
      ";BLOCKS :\r\n",
      ";\r\n",
      "< 36>          WAVE_DESCRIPTOR: long    ; length in bytes of block WAVEDESC\r\n",
      "< 40>          USER_TEXT: long          ; length in bytes of block USERTEXT\r\n",
      "< 44>          RES_DESC1: long          ;\r\n",
      ";\r\n",
      ";ARRAYS :\r\n",
      ";\r\n",
      "< 48>          TRIGTIME_ARRAY: long     ; length in bytes of TRIGTIME array\r\n",
      ";\r\n",
      "< 52>          RIS_TIME_ARRAY: long     ; length in bytes of RIS_TIME array\r\n",
      ";\r\n",
      "< 56>          RES_ARRAY1: long         ; an expansion entry is reserved\r\n",
      ";\r\n",
      "< 60>          WAVE_ARRAY_1: long       ; length in bytes of 1st simple\r\n",
      "                                        ; data array. In transmitted waveform,\r\n",
      "                                        ; represent the number of transmitted\r\n",
      "                                        ; bytes in accordance with the NP\r\n",
      "                                        ; parameter of the WFSU remote command\r\n",
      "                                        ; and the used format (see COMM_TYPE).\r\n",
      ";\r\n",
      "< 64>          WAVE_ARRAY_2: long       ; length in bytes of 2nd simple\r\n",
      "                                        ; data array\r\n",
      ";\r\n",
      "< 68>          RES_ARRAY2: long         \r\n",
      "< 72>          RES_ARRAY3: long         ; 2 expansion entries are reserved\r\n",
      ";\r\n",
      "; The following variables identify the instrument\r\n",
      ";\r\n",
      "< 76>          INSTRUMENT_NAME: string  \r\n",
      ";\r\n",
      "< 92>          INSTRUMENT_NUMBER: long  \r\n",
      ";\r\n",
      "< 96>          TRACE_LABEL: string      ; identifies the waveform.\r\n",
      ";\r\n",
      "<112>          RESERVED1: word          \r\n",
      "<114>          RESERVED2: word          ; 2 expansion entries\r\n",
      ";\r\n",
      "; The following variables describe the waveform and the time at\r\n",
      "; which the waveform was generated.\r\n",
      ";\r\n",
      "<116>          WAVE_ARRAY_COUNT: long   ; number of data points in the data\r\n",
      "                                        ; array. If there are two data\r\n",
      "                                        ; arrays (FFT or Extrema), this number\r\n",
      "                                        ; applies to each array separately.\r\n",
      ";\r\n",
      "<120>          PNTS_PER_SCREEN: long    ; nominal number of data points\r\n",
      "                                        ; on the screen\r\n",
      ";\r\n",
      "<124>          FIRST_VALID_PNT: long    ; count of number of points to skip\r\n",
      "                                        ; before first good point\r\n",
      "                                        ; FIRST_VALID_POINT = 0\r\n",
      "                                        ; for normal waveforms.\r\n",
      ";\r\n",
      "<128>          LAST_VALID_PNT: long     ; index of last good data point\r\n",
      "                                        ; in record before padding (blanking)\r\n",
      "                                        ; was started.\r\n",
      "                                        ; LAST_VALID_POINT = WAVE_ARRAY_COUNT-1\r\n",
      "                                        ; except for aborted sequence\r\n",
      "                                        ; and rollmode acquisitions\r\n",
      ";\r\n",
      "<132>          FIRST_POINT: long        ; for input and output, indicates\r\n",
      "                                        ; the offset relative to the\r\n",
      "                                        ; beginning of the trace buffer.\r\n",
      "                                        ; Value is the same as the FP parameter\r\n",
      "                                        ; of the WFSU remote command.\r\n",
      ";\r\n",
      "<136>          SPARSING_FACTOR: long    ; for input and output, indicates\r\n",
      "                                        ; the sparsing into the transmitted\r\n",
      "                                        ; data block.\r\n",
      "                                        ; Value is the same as the SP parameter\r\n",
      "                                        ; of the WFSU remote command.\r\n",
      ";\r\n",
      "<140>          SEGMENT_INDEX: long      ; for input and output, indicates the\r\n",
      "                                        ; index of the transmitted segment.\r\n",
      "                                        ; Value is the same as the SN parameter\r\n",
      "                                        ; of the WFSU remote command.\r\n",
      ";\r\n",
      "<144>          SUBARRAY_COUNT: long     ; for Sequence, acquired segment count,\r\n",
      "                                        ; between 0 and NOM_SUBARRAY_COUNT\r\n",
      ";\r\n",
      "<148>          SWEEPS_PER_ACQ: long     ; for Average or Extrema,\r\n",
      "                                        ; number of sweeps accumulated\r\n",
      "                                        ; else 1\r\n",
      ";\r\n",
      "<152>          POINTS_PER_PAIR: word    ; for Peak Dectect waveforms (which always\r\n",
      "                                        ; include data points in DATA_ARRAY_1 and\r\n",
      "                                        ; min/max pairs in DATA_ARRAY_2).\r\n",
      "                                        ; Value is the number of data points for\r\n",
      "                                        ; each min/max pair.\r\n",
      ";\r\n",
      "<154>          PAIR_OFFSET: word        ; for Peak Dectect waveforms only\r\n",
      "                                        ; Value is the number of data points by\r\n",
      "                                        ; which the first min/max pair in\r\n",
      "                                        ; DATA_ARRAY_2 is offset relative to the\r\n",
      "                                        ; first data value in DATA_ARRAY_1.\r\n",
      ";\r\n",
      "<156>          VERTICAL_GAIN: float     \r\n",
      ";\r\n",
      "<160>          VERTICAL_OFFSET: float   ; to get floating values from raw data :\r\n",
      "                                        ; VERTICAL_GAIN * data - VERTICAL_OFFSET\r\n",
      ";\r\n",
      "<164>          MAX_VALUE: float         ; maximum allowed value. It corresponds\r\n",
      "                                        ; to the upper edge of the grid.\r\n",
      ";\r\n",
      "<168>          MIN_VALUE: float         ; minimum allowed value. It corresponds\r\n",
      "                                        ; to the lower edge of the grid.\r\n",
      ";\r\n",
      "<172>          NOMINAL_BITS: word       ; a measure of the intrinsic precision\r\n",
      "                                        ; of the observation: ADC data is 8 bit\r\n",
      "                                        ;    averaged data is 10-12 bit, etc.\r\n",
      ";\r\n",
      "<174>          NOM_SUBARRAY_COUNT: word ; for Sequence, nominal segment count\r\n",
      "                                        ; else 1\r\n",
      ";\r\n",
      "<176>          HORIZ_INTERVAL: float    ; sampling interval for time domain\r\n",
      "                                        ;  waveforms\r\n",
      ";\r\n",
      "<180>          HORIZ_OFFSET: double     ; trigger offset for the first sweep of\r\n",
      "                                        ; the trigger, seconds between the\r\n",
      "                                        ; trigger and the first data point\r\n",
      ";\r\n",
      "<188>          PIXEL_OFFSET: double     ; needed to know how to display the\r\n",
      "                                        ; waveform\r\n",
      ";\r\n",
      "<196>          VERTUNIT: unit_definition  ; units of the vertical axis\r\n",
      ";\r\n",
      "<244>          HORUNIT: unit_definition   ; units of the horizontal axis\r\n",
      ";\r\n",
      "<292>          HORIZ_UNCERTAINTY: float ; uncertainty from one acquisition to the\r\n",
      "                                        ; next, of the horizontal offset in seconds\r\n",
      ";\r\n",
      "<296>          TRIGGER_TIME: time_stamp ; time of the trigger\r\n",
      ";\r\n",
      "<312>          ACQ_DURATION: float      ; duration of the acquisition (in sec)\r\n",
      "                                        ; in multi-trigger waveforms.\r\n",
      "                                        ; (e.g. sequence, RIS,  or averaging)\r\n",
      ";\r\n",
      "<316>          RECORD_TYPE: enum        \r\n",
      "               _0      single_sweep     \r\n",
      "               _1      interleaved      \r\n",
      "               _2      histogram        \r\n",
      "               _3      graph            \r\n",
      "               _4      filter_coefficient\r\n",
      "               _5      complex          \r\n",
      "               _6      extrema          \r\n",
      "               _7      sequence_obsolete\r\n",
      "               _8      centered_RIS     \r\n",
      "               _9      peak_detect      \r\n",
      "               endenum                  \r\n",
      ";\r\n",
      "<318>          PROCESSING_DONE: enum    \r\n",
      "               _0       no_processing   \r\n",
      "               _1       fir_filter      \r\n",
      "               _2       interpolated    \r\n",
      "               _3       sparsed         \r\n",
      "               _4       autoscaled      \r\n",
      "               _5       no_result       \r\n",
      "               _6       rolling         \r\n",
      "               _7       cumulative      \r\n",
      "               endenum                  \r\n",
      ";\r\n",
      "<320>          RESERVED5: word          ; expansion entry\r\n",
      ";\r\n",
      "<322>          RIS_SWEEPS: word         ; for RIS, the number of sweeps\r\n",
      "                                        ; else 1\r\n",
      ";\r\n",
      "; The following variables describe the basic acquisition\r\n",
      "; conditions used when the waveform was acquired\r\n",
      ";\r\n",
      "<324>          TIMEBASE: enum           \r\n",
      "               _0    1_ps/div           \r\n",
      "               _1    2_ps/div           \r\n",
      "               _2    5_ps/div           \r\n",
      "               _3    10_ps/div          \r\n",
      "               _4    20_ps/div          \r\n",
      "               _5    50_ps/div          \r\n",
      "               _6    100_ps/div         \r\n",
      "               _7    200_ps/div         \r\n",
      "               _8    500_ps/div         \r\n",
      "               _9    1_ns/div           \r\n",
      "               _10   2_ns/div           \r\n",
      "               _11   5_ns/div           \r\n",
      "               _12   10_ns/div          \r\n",
      "               _13   20_ns/div          \r\n",
      "               _14   50_ns/div          \r\n",
      "               _15   100_ns/div         \r\n",
      "               _16   200_ns/div         \r\n",
      "               _17   500_ns/div         \r\n",
      "               _18   1_us/div           \r\n",
      "               _19   2_us/div           \r\n",
      "               _20   5_us/div           \r\n",
      "               _21   10_us/div          \r\n",
      "               _22   20_us/div          \r\n",
      "               _23   50_us/div          \r\n",
      "               _24   100_us/div         \r\n",
      "               _25   200_us/div         \r\n",
      "               _26   500_us/div         \r\n",
      "               _27   1_ms/div           \r\n",
      "               _28   2_ms/div           \r\n",
      "               _29   5_ms/div           \r\n",
      "               _30   10_ms/div          \r\n",
      "               _31   20_ms/div          \r\n",
      "               _32   50_ms/div          \r\n",
      "               _33   100_ms/div         \r\n",
      "               _34   200_ms/div         \r\n",
      "               _35   500_ms/div         \r\n",
      "               _36   1_s/div            \r\n",
      "               _37   2_s/div            \r\n",
      "               _38   5_s/div            \r\n",
      "               _39   10_s/div           \r\n",
      "               _40   20_s/div           \r\n",
      "               _41   50_s/div           \r\n",
      "               _42   100_s/div          \r\n",
      "               _43   200_s/div          \r\n",
      "               _44   500_s/div          \r\n",
      "               _45   1_ks/div           \r\n",
      "               _46   2_ks/div           \r\n",
      "               _47   5_ks/div           \r\n",
      "               _100  EXTERNAL           \r\n",
      "               endenum                  \r\n",
      ";\r\n",
      "<326>          VERT_COUPLING: enum      \r\n",
      "               _0      DC_50_Ohms       \r\n",
      "               _1      ground           \r\n",
      "               _2      DC_1MOhm         \r\n",
      "               _3      ground           \r\n",
      "               _4      AC_1MOhm         \r\n",
      "               endenum                  \r\n",
      ";\r\n",
      "<328>          PROBE_ATT: float         \r\n",
      ";\r\n",
      "<332>          FIXED_VERT_GAIN: enum    \r\n",
      "               _0   1_uV/div            \r\n",
      "               _1   2_uV/div            \r\n",
      "               _2   5_uV/div            \r\n",
      "               _3   10_uV/div           \r\n",
      "               _4   20_uV/div           \r\n",
      "               _5   50_uV/div           \r\n",
      "               _6   100_uV/div          \r\n",
      "               _7   200_uV/div          \r\n",
      "               _8   500_uV/div          \r\n",
      "               _9   1_mV/div            \r\n",
      "               _10  2_mV/div            \r\n",
      "               _11  5_mV/div            \r\n",
      "               _12  10_mV/div           \r\n",
      "               _13  20_mV/div           \r\n",
      "               _14  50_mV/div           \r\n",
      "               _15  100_mV/div          \r\n",
      "               _16  200_mV/div          \r\n",
      "               _17  500_mV/div          \r\n",
      "               _18  1_V/div             \r\n",
      "               _19  2_V/div             \r\n",
      "               _20  5_V/div             \r\n",
      "               _21  10_V/div            \r\n",
      "               _22  20_V/div            \r\n",
      "               _23  50_V/div            \r\n",
      "               _24  100_V/div           \r\n",
      "               _25  200_V/div           \r\n",
      "               _26  500_V/div           \r\n",
      "               _27  1_kV/div            \r\n",
      "               endenum                  \r\n",
      ";\r\n",
      "<334>          BANDWIDTH_LIMIT: enum    \r\n",
      "               _0      off              \r\n",
      "               _1      on               \r\n",
      "               endenum                  \r\n",
      ";\r\n",
      "<336>          VERTICAL_VERNIER: float  \r\n",
      ";\r\n",
      "<340>          ACQ_VERT_OFFSET: float   \r\n",
      ";\r\n",
      "<344>          WAVE_SOURCE: enum        \r\n",
      "               _0      CHANNEL_1        \r\n",
      "               _1      CHANNEL_2        \r\n",
      "               _2      CHANNEL_3        \r\n",
      "               _3      CHANNEL_4        \r\n",
      "               _9      UNKNOWN          \r\n",
      "               endenum                  \r\n",
      ";\r\n",
      "/00              ENDBLOCK\r\n",
      ";\r\n",
      ";==========================================================================\r\n",
      ";\r\n",
      "USERTEXT: BLOCK\r\n",
      ";\r\n",
      "; Explanation of the descriptor block USERTEXT at most 160 bytes long.\r\n",
      ";\r\n",
      ";\r\n",
      "<  0>          TEXT: text               ; a list of ASCII characters\r\n",
      ";\r\n",
      "/00              ENDBLOCK\r\n",
      ";\r\n",
      ";==========================================================================\r\n",
      ";\r\n",
      "TRIGTIME: ARRAY\r\n",
      ";\r\n",
      "; Explanation of the trigger time array TRIGTIME.\r\n",
      "; This optional time array is only present with SEQNCE waveforms.\r\n",
      "; The following data block is repeated for each segment which makes up\r\n",
      "; the acquired sequence record.\r\n",
      ";\r\n",
      "<  0>          TRIGGER_TIME: double     ; for sequence acquisitions,\r\n",
      "                                        ; time in seconds from first\r\n",
      "                                        ; trigger to this one\r\n",
      ";\r\n",
      "<  8>          TRIGGER_OFFSET: double   ; the trigger offset is in seconds\r\n",
      "                                        ; from trigger to zeroth data point\r\n",
      ";\r\n",
      "/00              ENDARRAY\r\n",
      ";\r\n",
      ";==========================================================================\r\n",
      ";\r\n",
      "RISTIME: ARRAY\r\n",
      ";\r\n",
      "; Explanation of the random-interleaved-sampling (RIS) time array RISTIME.\r\n",
      "; This optional time array is only present with RIS waveforms.\r\n",
      "; This data block is repeated for each sweep which makes up the RIS record\r\n",
      ";\r\n",
      "<  0>          RIS_OFFSET: double       ; seconds from trigger to zeroth\r\n",
      "                                        ; point of segment\r\n",
      ";\r\n",
      "/00              ENDARRAY\r\n",
      ";\r\n",
      ";==========================================================================\r\n",
      ";\r\n",
      "DATA_ARRAY_1: ARRAY\r\n",
      ";\r\n",
      "; Explanation of the data array DATA_ARRAY_1.\r\n",
      "; This main data array is always present. It is the only data array for\r\n",
      "; most waveforms.\r\n",
      "; The data item is repeated for each acquired or computed data point\r\n",
      "; of the first data array of any waveform.\r\n",
      ";\r\n",
      "<  0>          MEASUREMENT: data        ; the actual format of a data is\r\n",
      "                                        ; given in the WAVEDESC descriptor\r\n",
      "                                        ; by the COMM_TYPE variable.\r\n",
      ";\r\n",
      "/00              ENDARRAY\r\n",
      ";\r\n",
      ";==========================================================================\r\n",
      ";\r\n",
      "DATA_ARRAY_2: ARRAY\r\n",
      ";\r\n",
      "; Explanation of the data array DATA_ARRAY_2.\r\n",
      "; This is an optional secondary data array for special types of waveforms:\r\n",
      ";       Complex FFT     imaginary part      (real part in DATA_ARRAY_1)\r\n",
      ";       Extrema         floor trace         (roof trace in DATA_ARRAY_1)\r\n",
      ";       Peak Detect     min/max pairs       (data values in DATA_ARRAY_1)\r\n",
      "; In the first 2 cases, there is exactly one data item in DATA_ARRAY_2 for\r\n",
      "; each data item in DATA_ARRAY_1.\r\n",
      "; In Peak Detect waveforms, there may be fewer data values in DATA_ARRAY_2,\r\n",
      "; as described by the variable POINTS_PER_PAIR.\r\n",
      ";\r\n",
      "<  0>          MEASUREMENT: data        ; the actual format of a data is\r\n",
      "                                        ; given in the WAVEDESC descriptor\r\n",
      "                                        ; by the COMM_TYPE variable.\r\n",
      ";\r\n",
      "/00              ENDARRAY\r\n",
      ";\r\n",
      ";==========================================================================\r\n",
      ";\r\n",
      "SIMPLE: ARRAY\r\n",
      ";\r\n",
      "; Explanation of the data array SIMPLE.\r\n",
      "; This data array is identical to DATA_ARRAY_1. SIMPLE is an accepted\r\n",
      "; alias name for DATA_ARRAY_1.\r\n",
      ";\r\n",
      "<  0>          MEASUREMENT: data        ; the actual format of a data is\r\n",
      "                                        ; given in the WAVEDESC descriptor\r\n",
      "                                        ; by the COMM_TYPE variable.\r\n",
      ";\r\n",
      "/00              ENDARRAY\r\n",
      ";\r\n",
      ";==========================================================================\r\n",
      ";\r\n",
      "DUAL: ARRAY\r\n",
      ";\r\n",
      "; Explanation of the DUAL array.\r\n",
      "; This data array is identical to DATA_ARRAY_1, followed by DATA_ARRAY_2.\r\n",
      "; DUAL is an accepted alias name for the combined arrays DATA_ARRAY_1 and\r\n",
      "; DATA_ARRAY_2 (e.g. real and imaginary parts of an FFT).\r\n",
      ";\r\n",
      "<  0>          MEASUREMENT_1: data      ; data in DATA_ARRAY_1.\r\n",
      ";\r\n",
      "<  0>          MEASUREMENT_2: data      ; data in DATA_ARRAY_2.\r\n",
      ";\r\n",
      "/00              ENDARRAY\r\n",
      ";\r\n",
      ";\r\n",
      "000000               ENDTEMPLATE\r\n",
      "\"\n"
     ]
    },
    {
     "name": "stdout",
     "output_type": "stream",
     "text": [
      "\n"
     ]
    }
   ],
   "source": [
    "print(osc.visa_handle.query(\"TMPL?\"))"
   ]
  },
  {
   "cell_type": "code",
   "execution_count": 66,
   "metadata": {},
   "outputs": [
    {
     "name": "stdout",
     "output_type": "stream",
     "text": [
      "3.47 s ± 180 ms per loop (mean ± std. dev. of 7 runs, 1 loop each)\n"
     ]
    }
   ],
   "source": [
    "%%timeit\n",
    "osc.visa_handle.write(\"C3:WF?\")\n",
    "full = osc._read_ieee_block()\n",
    "\n",
    "comm_type, comm_order = struct.unpack_from('??', full, 32)\n",
    "dat1_offset = np.sum(struct.unpack_from('6l', full, 36))\n",
    "dat1_length, = struct.unpack_from('l', full, 60)\n",
    "Nsamples, = struct.unpack_from('L', full, 116)\n",
    "Nseq, = struct.unpack_from('L', full, 144)\n",
    "vert_gain, vert_offset = struct.unpack_from('ff', desc, 156)\n",
    "horz_dt, horz_offset = struct.unpack_from('fd', desc, 176)\n",
    "dat1_array = np.ndarray((Nseq,int(Nsamples/Nseq)),'h' if comm_type else 'b', full, dat1_offset)\n",
    "\n",
    "times = horz_offset + horz_dt * np.arange(int(Nsamples/Nseq))\n",
    "waves = vert_offset + vert_gain * dat1_array"
   ]
  },
  {
   "cell_type": "code",
   "execution_count": 67,
   "metadata": {},
   "outputs": [],
   "source": [
    "osc.visa_handle.write(\"C3:WF?\")\n",
    "full = osc._read_ieee_block()\n",
    "\n",
    "comm_type, comm_order = struct.unpack_from('??', full, 32)\n",
    "dat1_offset = np.sum(struct.unpack_from('6l', full, 36))\n",
    "dat1_length, = struct.unpack_from('l', full, 60)\n",
    "Nsamples, = struct.unpack_from('l', full, 116)\n",
    "Nseq, = struct.unpack_from('l', full, 144)\n",
    "vert_gain, vert_offset = struct.unpack_from('ff', full, 156)\n",
    "horz_dt, horz_offset = struct.unpack_from('fd', full, 176)\n",
    "dat1_array = np.ndarray((Nseq,int(Nsamples/Nseq)),'h' if comm_type else 'b', full, dat1_offset)\n",
    "\n",
    "times = horz_offset + horz_dt * np.arange(int(Nsamples/Nseq))\n",
    "waves = vert_offset + vert_gain * dat1_array"
   ]
  },
  {
   "cell_type": "code",
   "execution_count": 68,
   "metadata": {},
   "outputs": [
    {
     "data": {
      "text/plain": [
       "array([[ 0.        ,  0.        ,  0.        , ...,  0.        ,\n",
       "         0.        , -0.06641869],\n",
       "       [ 0.        ,  0.        , -0.06641869, ...,  0.06641869,\n",
       "         0.        ,  0.        ],\n",
       "       [ 0.        ,  0.06641869,  0.        , ...,  0.13283737,\n",
       "         0.        ,  0.06641869],\n",
       "       ...,\n",
       "       [ 0.06641869, -0.06641869,  0.        , ...,  0.        ,\n",
       "         0.06641869,  0.        ],\n",
       "       [ 0.        , -0.13283737,  0.13283737, ...,  0.06641869,\n",
       "        -0.06641869, -0.06641869],\n",
       "       [ 0.06641869,  0.06641869,  0.        , ...,  0.        ,\n",
       "         0.06641869, -0.06641869]])"
      ]
     },
     "execution_count": 68,
     "metadata": {},
     "output_type": "execute_result"
    }
   ],
   "source": [
    "waves"
   ]
  },
  {
   "cell_type": "code",
   "execution_count": 69,
   "metadata": {},
   "outputs": [
    {
     "data": {
      "image/png": "[encoded data removed]",
      "text/plain": [
       "<Figure size 432x288 with 1 Axes>"
      ]
     },
     "metadata": {},
     "output_type": "display_data"
    }
   ],
   "source": [
    "for wave in waves:\n",
    "    plt.plot(times, wave)"
   ]
  },
  {
   "cell_type": "code",
   "execution_count": 14,
   "metadata": {},
   "outputs": [
    {
     "data": {
      "text/plain": [
       "(False, False, 346, 1000000, array([ 1, -1,  1, ...,  1,  0,  0], dtype=int8))"
      ]
     },
     "execution_count": 14,
     "metadata": {},
     "output_type": "execute_result"
    }
   ],
   "source": [
    "comm_type, comm_order, dat1_offset,dat1_length, dat1_array"
   ]
  },
  {
   "cell_type": "code",
   "execution_count": 22,
   "metadata": {},
   "outputs": [
    {
     "name": "stdout",
     "output_type": "stream",
     "text": [
      "233 ms ± 14.1 ms per loop (mean ± std. dev. of 7 runs, 10 loops each)\n"
     ]
    }
   ],
   "source": [
    "%%timeit\n",
    "osc.visa_handle.write(\"C3:WF? DESC\")\n",
    "desc = osc._read_ieee_block()\n",
    "Nsamples, = struct.unpack_from('L', desc, 116)\n",
    "vert_gain, vert_offset = struct.unpack_from('ff', desc, 156)\n",
    "horz_dt, horz_offset = struct.unpack_from('fd', desc, 176)\n",
    "\n",
    "(horz_offset + horz_dt * np.arange(Nsamples),\n",
    "        vert_offset + vert_gain\n",
    "        * osc.visa_handle.query_binary_values(\"C3:WF? DAT1\",\n",
    "                                            datatype='b',\n",
    "                                            is_big_endian=True,\n",
    "                                            container=np.array))"
   ]
  },
  {
   "cell_type": "code",
   "execution_count": 23,
   "metadata": {},
   "outputs": [
    {
     "data": {
      "text/plain": [
       "[<matplotlib.lines.Line2D at 0x14115fe0f98>]"
      ]
     },
     "execution_count": 23,
     "metadata": {},
     "output_type": "execute_result"
    },
    {
     "data": {
      "image/png": "[encoded data removed]",
      "text/plain": [
       "<Figure size 432x288 with 1 Axes>"
      ]
     },
     "metadata": {},
     "output_type": "display_data"
    }
   ],
   "source": [
    "osc.visa_handle.write(\"C3:WF? DESC\")\n",
    "desc = osc._read_ieee_block()\n",
    "Nsamples, = struct.unpack_from('L', desc, 116)\n",
    "vert_gain, vert_offset = struct.unpack_from('ff', desc, 156)\n",
    "horz_dt, horz_offset = struct.unpack_from('fd', desc, 176)\n",
    "\n",
    "wave = (horz_offset + horz_dt * np.arange(Nsamples),\n",
    "        vert_offset + vert_gain\n",
    "        * osc.visa_handle.query_binary_values(\"C3:WF? DAT1\",\n",
    "                                            datatype='b',\n",
    "                                            is_big_endian=True,\n",
    "                                            container=np.array))\n",
    "\n",
    "plt.plot(*wave)"
   ]
  },
  {
   "cell_type": "code",
   "execution_count": 5,
   "metadata": {},
   "outputs": [],
   "source": [
    "osc.close()"
   ]
  },
  {
   "cell_type": "code",
   "execution_count": 55,
   "metadata": {},
   "outputs": [],
   "source": [
    "import win32com.client\n",
    "dso=win32com.client.Dispatch(\"LeCroy.ActiveDSOCtrl.1\")"
   ]
  },
  {
   "cell_type": "code",
   "execution_count": 56,
   "metadata": {},
   "outputs": [
    {
     "data": {
      "text/plain": [
       "True"
      ]
     },
     "execution_count": 56,
     "metadata": {},
     "output_type": "execute_result"
    }
   ],
   "source": [
    "dso.MakeConnection(\"VXI11: 192.168.1.7\")"
   ]
  },
  {
   "cell_type": "code",
   "execution_count": 57,
   "metadata": {},
   "outputs": [
    {
     "name": "stdout",
     "output_type": "stream",
     "text": [
      "3.69 s ± 99.6 ms per loop (mean ± std. dev. of 7 runs, 1 loop each)\n"
     ]
    }
   ],
   "source": [
    "%%timeit\n",
    "dso.GetScaledWaveformWithTimes(\"C3\", 10000000, 0)"
   ]
  },
  {
   "cell_type": "code",
   "execution_count": 58,
   "metadata": {},
   "outputs": [
    {
     "data": {
      "text/plain": [
       "[<matplotlib.lines.Line2D at 0x1412d9705f8>]"
      ]
     },
     "execution_count": 58,
     "metadata": {},
     "output_type": "execute_result"
    },
    {
     "data": {
      "image/png": "[encoded data removed]",
      "text/plain": [
       "<Figure size 432x288 with 1 Axes>"
      ]
     },
     "metadata": {},
     "output_type": "display_data"
    }
   ],
   "source": [
    "wave_dso = dso.GetScaledWaveformWithTimes(\"C3\", 10000000, 0)\n",
    "plt.plot(*wave_dso)"
   ]
  },
  {
   "cell_type": "code",
   "execution_count": 29,
   "metadata": {},
   "outputs": [
    {
     "data": {
      "text/plain": [
       "array([[False, False, False, ..., False, False, False],\n",
       "       [ True,  True,  True, ...,  True,  True,  True]])"
      ]
     },
     "execution_count": 29,
     "metadata": {},
     "output_type": "execute_result"
    }
   ],
   "source": [
    "np.equal(wave,wave_dso)"
   ]
  },
  {
   "cell_type": "code",
   "execution_count": 60,
   "metadata": {},
   "outputs": [
    {
     "data": {
      "text/plain": [
       "True"
      ]
     },
     "execution_count": 60,
     "metadata": {},
     "output_type": "execute_result"
    }
   ],
   "source": [
    "dso.Disconnect()"
   ]
  },
  {
   "cell_type": "code",
   "execution_count": null,
   "metadata": {},
   "outputs": [],
   "source": []
  }
 ],
 "metadata": {
  "kernelspec": {
   "display_name": "Python 3",
   "language": "python",
   "name": "python3"
  },
  "language_info": {
   "codemirror_mode": {
    "name": "ipython",
    "version": 3
   },
   "file_extension": ".py",
   "mimetype": "text/x-python",
   "name": "python",
   "nbconvert_exporter": "python",
   "pygments_lexer": "ipython3",
   "version": "3.6.7"
  },
  "nbsphinx": {
   "execute": "never"
  }
 },
 "nbformat": 4,
 "nbformat_minor": 2
}
