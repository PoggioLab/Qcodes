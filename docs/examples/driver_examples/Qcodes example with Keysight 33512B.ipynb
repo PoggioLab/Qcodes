{
 "cells": [
  {
   "cell_type": "code",
   "execution_count": 33,
   "metadata": {},
   "outputs": [],
   "source": [
    "import qcodes as qc\n",
    "from qcodes.instrument_drivers.Keysight.KeysightAgilent_33XXX import WaveformGenerator_33XXX\n",
    "\n",
    "import numpy as np\n",
    "from matplotlib import pyplot as plt"
   ]
  },
  {
   "cell_type": "code",
   "execution_count": 2,
   "metadata": {},
   "outputs": [
    {
     "name": "stdout",
     "output_type": "stream",
     "text": [
      "Connected to: Agilent Technologies 33512B (serial:MY52400835, firmware:3.03-1.19-2.00-52-00) in 0.12s\n"
     ]
    }
   ],
   "source": [
    "awg = WaveformGenerator_33XXX('awg', 'TCPIP0::192.168.1.13::inst0::INSTR')"
   ]
  },
  {
   "cell_type": "markdown",
   "metadata": {},
   "source": [
    "# Create, upload and setup arbitrary waveform"
   ]
  },
  {
   "cell_type": "code",
   "execution_count": 174,
   "metadata": {},
   "outputs": [],
   "source": [
    "def def_Scurve_arb(amplitude, velocity, acceleration, Nsamples, Nbits=16):\n",
    "    assert amplitude>velocity**2/acceleration, \"Requires amplitude>velocity**2/acceleration\"\n",
    "        \n",
    "    dt_accel = velocity/acceleration\n",
    "    dt_cruise = amplitude/velocity - velocity/acceleration\n",
    "    dy_accel = velocity**2/(2*acceleration)\n",
    "    dy_cruise = amplitude - velocity**2/acceleration\n",
    "    \n",
    "    def y_accel(t, a, t0=0, v0=0, y0=0):\n",
    "        return y0 + v0*(t-t0) + a/2 * (t-t0)**2\n",
    "    \n",
    "    def y_cruise(t, v, t0=0, y0=0):\n",
    "        return y0 + v*(t-t0)\n",
    "    \n",
    "    t = np.linspace(0, 4*dt_accel + 2*dt_cruise, Nsamples)\n",
    "    curve = np.piecewise(t,\n",
    "                         [(t >= 0) & (t <= dt_accel),\n",
    "                          (t > dt_accel) & (t <= dt_accel + dt_cruise),\n",
    "                          (t > dt_accel + dt_cruise) & (t <= 3*dt_accel + dt_cruise),\n",
    "                          (t > 3*dt_accel + dt_cruise) & (t <= 3*dt_accel + 2*dt_cruise),\n",
    "                          (t > 3*dt_accel + 2*dt_cruise) & (t <= 4*dt_accel + 2*dt_cruise)\n",
    "                         ],\n",
    "                         [lambda x: y_accel(x, acceleration),\n",
    "                          lambda x: y_cruise(x, velocity, dt_accel, dy_accel),\n",
    "                          lambda x: y_accel(x, -acceleration, dt_accel + dt_cruise, velocity, dy_accel + dy_cruise),\n",
    "                          lambda x: y_cruise(x, -velocity, 3*dt_accel + dt_cruise, dy_accel + dy_cruise),\n",
    "                          lambda x: y_accel(x, acceleration, 3*dt_accel + 2*dt_cruise, -velocity, dy_accel)\n",
    "                         ])\n",
    "    \n",
    "    arb = ((curve - amplitude/2)/(amplitude/2)*(2**Nbits/2-1)).astype(int)\n",
    "    \n",
    "    return (arb,\n",
    "            {'amplitude': amplitude, 'offset': amplitude/2, 'period': t.max(), 'sampling_rate': Nsamples/t.max()},\n",
    "            {'dt_cruise': dt_cruise, 'dy_cruise': dy_cruise})"
   ]
  },
  {
   "cell_type": "code",
   "execution_count": 175,
   "metadata": {},
   "outputs": [
    {
     "data": {
      "text/plain": [
       "({'amplitude': 5,\n",
       "  'offset': 2.5,\n",
       "  'period': 0.525,\n",
       "  'sampling_rate': 19047.619047619046},\n",
       " {'dt_cruise': 0.1375, 'dy_cruise': 3.4375})"
      ]
     },
     "execution_count": 175,
     "metadata": {},
     "output_type": "execute_result"
    }
   ],
   "source": [
    "vel, acc, amp = 25, 400, 5\n",
    "arb, arb_param, cruise_param = def_Scurve_arb(amp, vel, acc, 10000)\n",
    "arb_param, cruise_param"
   ]
  },
  {
   "cell_type": "code",
   "execution_count": 179,
   "metadata": {},
   "outputs": [
    {
     "data": {
      "image/png": "[encoded data removed]",
      "text/plain": [
       "<Figure size 432x288 with 1 Axes>"
      ]
     },
     "metadata": {},
     "output_type": "display_data"
    }
   ],
   "source": [
    "plt.plot(arb);"
   ]
  },
  {
   "cell_type": "code",
   "execution_count": 177,
   "metadata": {},
   "outputs": [],
   "source": [
    "awg.ch2.clear_waveform_mem()\n",
    "awg.ch2.make_arbitrary_waveform('myArb', arb)\n",
    "\n",
    "awg.ch2.function_type.set('ARB')\n",
    "awg.ch2.arb_waveform_fname.set('myArb')\n",
    "awg.ch2.amplitude.set(arb_param['amplitude'])\n",
    "awg.ch2.offset.set(arb_param['offset'])\n",
    "awg.ch2.arb_waveform_srate.set(arb_param['sampling_rate'])"
   ]
  },
  {
   "cell_type": "code",
   "execution_count": 178,
   "metadata": {},
   "outputs": [
    {
     "name": "stdout",
     "output_type": "stream",
     "text": [
      "0 No error\n"
     ]
    }
   ],
   "source": [
    "awg.flush_error_queue()"
   ]
  },
  {
   "cell_type": "code",
   "execution_count": null,
   "metadata": {},
   "outputs": [],
   "source": []
  }
 ],
 "metadata": {
  "kernelspec": {
   "display_name": "Python 3",
   "language": "python",
   "name": "python3"
  },
  "language_info": {
   "codemirror_mode": {
    "name": "ipython",
    "version": 3
   },
   "file_extension": ".py",
   "mimetype": "text/x-python",
   "name": "python",
   "nbconvert_exporter": "python",
   "pygments_lexer": "ipython3",
   "version": "3.6.7"
  }
 },
 "nbformat": 4,
 "nbformat_minor": 2
}
