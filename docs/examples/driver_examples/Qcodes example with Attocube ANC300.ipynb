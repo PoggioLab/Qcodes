{
 "cells": [
  {
   "cell_type": "markdown",
   "metadata": {},
   "source": [
    "# Qcodes example with Attocube ANC300"
   ]
  },
  {
   "cell_type": "markdown",
   "metadata": {},
   "source": [
    "## Imports"
   ]
  },
  {
   "cell_type": "code",
   "execution_count": 4,
   "metadata": {},
   "outputs": [],
   "source": [
    "import qcodes as qc\n",
    "from qcodes.instrument_drivers.Attocube.Attocube_ANC300 import ANC300"
   ]
  },
  {
   "cell_type": "markdown",
   "metadata": {},
   "source": [
    "## Connect instrument"
   ]
  },
  {
   "cell_type": "code",
   "execution_count": 15,
   "metadata": {},
   "outputs": [],
   "source": [
    "piezo_ctrl = ANC300(\"attocube_piezo_controller\",\"tcpip0::192.168.1.2::7230::socket\")"
   ]
  },
  {
   "cell_type": "markdown",
   "metadata": {},
   "source": [
    "## Get and print instrument and submodules parameters"
   ]
  },
  {
   "cell_type": "code",
   "execution_count": 17,
   "metadata": {
    "scrolled": false
   },
   "outputs": [
    {
     "name": "stdout",
     "output_type": "stream",
     "text": [
      "attocube_piezo_controller:\n",
      "\tparameter      value\n",
      "--------------------------------------------------------------------------------\n",
      "IDN             :\t{'vendor': 'attocube', 'model': 'ANC300', 'serial': 'ANC300...\n",
      "instrument_info :\tattocube ANC300 controller version 1.0.0-1271 2012-04-18 16...\n",
      "serial_no       :\tANC300B-C-1011-1004010 \n",
      "timeout         :\t5 (s)\n",
      "attocube_piezo_controller_axis1:\n",
      "\tparameter        value\n",
      "--------------------------------------------------------------------------------\n",
      "ac_in             :\tFalse \n",
      "capacitance       :\t0.70362 (nF)\n",
      "dc_in             :\tFalse \n",
      "mode              :\tgnd \n",
      "offset_voltage    :\t0 (V)\n",
      "outp_filter       :\toff (Hz)\n",
      "output_voltage    :\t0 (V)\n",
      "serial_no         :\tANM300B-M-0945-1003041 \n",
      "step_amplitude    :\t40 (V)\n",
      "step_down_pattern :\t[255, 254, 253, 252, 251, 250, 249, 248, 247, 246, 245, 2...\n",
      "step_frequency    :\t100 (Hz)\n",
      "step_up_pattern   :\t[0, 1, 2, 3, 4, 5, 6, 7, 8, 9, 10, 11, 12, 13, 14, 15, 16...\n",
      "trigger_down_pin  :\t2 \n",
      "trigger_up_pin    :\t1 \n",
      "attocube_piezo_controller_axis2:\n",
      "\tparameter        value\n",
      "--------------------------------------------------------------------------------\n",
      "ac_in             :\tFalse \n",
      "capacitance       :\tNone (nF)\n",
      "dc_in             :\tFalse \n",
      "mode              :\tgnd \n",
      "offset_voltage    :\t0 (V)\n",
      "outp_filter       :\toff (Hz)\n",
      "output_voltage    :\t0 (V)\n",
      "serial_no         :\tANM300B-M-0945-1003042 \n",
      "step_amplitude    :\t60 (V)\n",
      "step_down_pattern :\t[255, 254, 253, 252, 251, 250, 249, 248, 247, 246, 245, 2...\n",
      "step_frequency    :\t150 (Hz)\n",
      "step_up_pattern   :\t[0, 1, 2, 3, 4, 5, 6, 7, 8, 9, 10, 11, 12, 13, 14, 15, 16...\n",
      "trigger_down_pin  :\t4 \n",
      "trigger_up_pin    :\t3 \n",
      "attocube_piezo_controller_axis3:\n",
      "\tparameter        value\n",
      "--------------------------------------------------------------------------------\n",
      "ac_in             :\tFalse \n",
      "capacitance       :\tNone (nF)\n",
      "dc_in             :\tFalse \n",
      "mode              :\tgnd \n",
      "offset_voltage    :\t0 (V)\n",
      "outp_filter       :\toff (Hz)\n",
      "output_voltage    :\t0 (V)\n",
      "serial_no         :\tANM300B-M-0945-1003047 \n",
      "step_amplitude    :\t40 (V)\n",
      "step_down_pattern :\t[255, 254, 253, 252, 251, 250, 249, 248, 247, 246, 245, 2...\n",
      "step_frequency    :\t150 (Hz)\n",
      "step_up_pattern   :\t[0, 1, 2, 3, 4, 5, 6, 7, 8, 9, 10, 11, 12, 13, 14, 15, 16...\n",
      "trigger_down_pin  :\t6 \n",
      "trigger_up_pin    :\t5 \n",
      "attocube_piezo_controller_axis4:\n",
      "\tparameter        value\n",
      "--------------------------------------------------------------------------------\n",
      "ac_in             :\tFalse \n",
      "capacitance       :\t335 (nF)\n",
      "dc_in             :\tFalse \n",
      "mode              :\tgnd \n",
      "offset_voltage    :\t0 (V)\n",
      "outp_filter       :\toff (Hz)\n",
      "output_voltage    :\t0 (V)\n",
      "serial_no         :\tANM300B-M-0945-1003047 \n",
      "step_amplitude    :\t40 (V)\n",
      "step_down_pattern :\t[255, 254, 253, 252, 251, 250, 249, 248, 247, 246, 245, 2...\n",
      "step_frequency    :\t100 (Hz)\n",
      "step_up_pattern   :\t[0, 1, 2, 3, 4, 5, 6, 7, 8, 9, 10, 11, 12, 13, 14, 15, 16...\n",
      "trigger_down_pin  :\toff \n",
      "trigger_up_pin    :\toff \n",
      "attocube_piezo_controller_axis5:\n",
      "\tparameter        value\n",
      "--------------------------------------------------------------------------------\n",
      "ac_in             :\tFalse \n",
      "capacitance       :\t378 (nF)\n",
      "dc_in             :\tFalse \n",
      "mode              :\tgnd \n",
      "offset_voltage    :\t0 (V)\n",
      "outp_filter       :\toff (Hz)\n",
      "output_voltage    :\t0 (V)\n",
      "serial_no         :\tANM300A-M-1212-2006080 \n",
      "step_amplitude    :\t40 (V)\n",
      "step_down_pattern :\t[255, 254, 253, 252, 251, 250, 249, 248, 247, 246, 245, 2...\n",
      "step_frequency    :\t100 (Hz)\n",
      "step_up_pattern   :\t[0, 1, 2, 3, 4, 5, 6, 7, 8, 9, 10, 11, 12, 13, 14, 15, 16...\n",
      "trigger_down_pin  :\toff \n",
      "trigger_up_pin    :\toff \n",
      "attocube_piezo_controller_axis6:\n",
      "\tparameter        value\n",
      "--------------------------------------------------------------------------------\n",
      "ac_in             :\tFalse \n",
      "capacitance       :\tNone (nF)\n",
      "dc_in             :\tFalse \n",
      "mode              :\tgnd \n",
      "offset_voltage    :\t0 (V)\n",
      "outp_filter       :\toff (Hz)\n",
      "output_voltage    :\t0 (V)\n",
      "serial_no         :\tNULLx-x-0000-1000000 \n",
      "step_amplitude    :\t40 (V)\n",
      "step_down_pattern :\t[255, 254, 253, 252, 251, 250, 249, 248, 247, 246, 245, 2...\n",
      "step_frequency    :\t100 (Hz)\n",
      "step_up_pattern   :\t[0, 1, 2, 3, 4, 5, 6, 7, 8, 9, 10, 11, 12, 13, 14, 15, 16...\n",
      "trigger_down_pin  :\toff \n",
      "trigger_up_pin    :\toff \n"
     ]
    }
   ],
   "source": [
    "piezo_ctrl.print_readable_snapshot(update=True)"
   ]
  },
  {
   "cell_type": "markdown",
   "metadata": {},
   "source": [
    "## Close instrument"
   ]
  },
  {
   "cell_type": "code",
   "execution_count": 14,
   "metadata": {},
   "outputs": [],
   "source": [
    "piezo_ctrl.close()"
   ]
  },
  {
   "cell_type": "code",
   "execution_count": null,
   "metadata": {},
   "outputs": [],
   "source": []
  }
 ],
 "metadata": {
  "kernelspec": {
   "display_name": "Python 3",
   "language": "python",
   "name": "python3"
  },
  "language_info": {
   "codemirror_mode": {
    "name": "ipython",
    "version": 3
   },
   "file_extension": ".py",
   "mimetype": "text/x-python",
   "name": "python",
   "nbconvert_exporter": "python",
   "pygments_lexer": "ipython3",
   "version": "3.6.3"
  }
 },
 "nbformat": 4,
 "nbformat_minor": 2
}
