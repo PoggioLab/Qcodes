{
 "cells": [
  {
   "cell_type": "code",
   "execution_count": 1,
   "metadata": {},
   "outputs": [
    {
     "name": "stdout",
     "output_type": "stream",
     "text": [
      "Logging hadn't been started.\n",
      "Activating auto-logging. Current session state plus future input saved.\n",
      "Filename       : C:\\Users\\He5user\\.qcodes\\logs\\command_history.log\n",
      "Mode           : append\n",
      "Output logging : True\n",
      "Raw input log  : False\n",
      "Timestamping   : True\n",
      "State          : active\n"
     ]
    }
   ],
   "source": [
    "from qcodes.instrument_drivers.TOPTICA.DLCpro import log as laser_logger, make_cmd\n",
    "from qcodes.instrument_drivers.TOPTICA.DLCpro import DLCpro\n",
    "\n",
    "import logging\n",
    "import qcodes.logger as logger\n",
    "logger.start_all_logging()"
   ]
  },
  {
   "cell_type": "code",
   "execution_count": 2,
   "metadata": {},
   "outputs": [
    {
     "name": "stdout",
     "output_type": "stream",
     "text": [
      "Connected to: TOPTICA DLCpro (serial:DLC  PRO+_040128, firmware:1.5.1.9621) in 0.14s\n"
     ]
    }
   ],
   "source": [
    "laser = DLCpro('laser','tcpip0::192.168.1.2::1998::socket')"
   ]
  },
  {
   "cell_type": "code",
   "execution_count": 3,
   "metadata": {},
   "outputs": [
    {
     "name": "stderr",
     "output_type": "stream",
     "text": [
      "2018-12-21 06:07:04,004 ¦ qcodes.instrument_drivers.TOPTICA.DLCpro ¦ DEBUG ¦ DLCpro ¦ ask_raw ¦ 229 ¦ Querying instrument laser: \"(param-set! 'laser1:ctl:wavelength-set 920)\"\n",
      "2018-12-21 06:07:04,022 ¦ qcodes.instrument_drivers.TOPTICA.DLCpro ¦ DEBUG ¦ DLCpro ¦ read_raw ¦ 253 ¦ Reading from instrument: 0\n",
      "2018-12-21 06:07:04,025 ¦ qcodes.instrument_drivers.TOPTICA.DLCpro ¦ DEBUG ¦ DLCpro ¦ ask_raw ¦ 229 ¦ Querying instrument laser: \"(param-ref 'laser1:ctl:wavelength-set)\"\n",
      "2018-12-21 06:07:04,047 ¦ qcodes.instrument_drivers.TOPTICA.DLCpro ¦ DEBUG ¦ DLCpro ¦ read_raw ¦ 253 ¦ Reading from instrument: 920\n"
     ]
    },
    {
     "name": "stdout",
     "output_type": "stream",
     "text": [
      "920.0\n"
     ]
    }
   ],
   "source": [
    "with logger.console_level(logging.DEBUG):\n",
    "    laser.laser1.ctl.wavelength_set.set(920)\n",
    "    print(laser.laser1.ctl.wavelength_set.get())"
   ]
  },
  {
   "cell_type": "code",
   "execution_count": 6,
   "metadata": {},
   "outputs": [
    {
     "name": "stderr",
     "output_type": "stream",
     "text": [
      "2018-12-21 06:07:13,379 ¦ qcodes.instrument_drivers.TOPTICA.DLCpro ¦ DEBUG ¦ DLCpro ¦ ask_raw ¦ 229 ¦ Querying instrument laser: \"(param-ref 'laser1:ctl:wavelength-act)\"\n",
      "2018-12-21 06:07:13,394 ¦ qcodes.instrument_drivers.TOPTICA.DLCpro ¦ DEBUG ¦ DLCpro ¦ read_raw ¦ 253 ¦ Reading from instrument: 919.99829968818983\n"
     ]
    },
    {
     "name": "stdout",
     "output_type": "stream",
     "text": [
      "919.9982996881898\n"
     ]
    }
   ],
   "source": [
    "with logger.console_level(logging.DEBUG):\n",
    "    print(laser.laser1.ctl.wavelength_act.get())"
   ]
  },
  {
   "cell_type": "code",
   "execution_count": 18,
   "metadata": {},
   "outputs": [
    {
     "name": "stdout",
     "output_type": "stream",
     "text": [
      "(0, 951.098776111147)\n"
     ]
    }
   ],
   "source": [
    "laser.laser1.ctl.wavelength_set.set(951.1)\n",
    "while laser.laser1.ctl.state() != 0:\n",
    "    print((laser.laser1.ctl.state(), laser.laser1.ctl.wavelength_act()))\n",
    "print((laser.laser1.ctl.state(), laser.laser1.ctl.wavelength_act()))"
   ]
  },
  {
   "cell_type": "code",
   "execution_count": 6,
   "metadata": {},
   "outputs": [],
   "source": [
    "laser.close()"
   ]
  },
  {
   "cell_type": "code",
   "execution_count": null,
   "metadata": {},
   "outputs": [],
   "source": []
  }
 ],
 "metadata": {
  "kernelspec": {
   "display_name": "Python 3",
   "language": "python",
   "name": "python3"
  },
  "language_info": {
   "codemirror_mode": {
    "name": "ipython",
    "version": 3
   },
   "file_extension": ".py",
   "mimetype": "text/x-python",
   "name": "python",
   "nbconvert_exporter": "python",
   "pygments_lexer": "ipython3",
   "version": "3.6.7"
  }
 },
 "nbformat": 4,
 "nbformat_minor": 2
}
