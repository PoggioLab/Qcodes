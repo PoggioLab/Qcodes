{
 "cells": [
  {
   "cell_type": "code",
   "execution_count": 1,
   "metadata": {},
   "outputs": [],
   "source": [
    "from qcodes.instrument_drivers.TOPTICA.DLCpro import DLCpro\n",
    "import re"
   ]
  },
  {
   "cell_type": "code",
   "execution_count": 2,
   "metadata": {},
   "outputs": [],
   "source": [
    "laser = DLCpro('laser','tcpip0::192.168.1.2::1998::socket')"
   ]
  },
  {
   "cell_type": "code",
   "execution_count": 3,
   "metadata": {},
   "outputs": [
    {
     "name": "stdout",
     "output_type": "stream",
     "text": [
      "DLCpro  firmware,  version  1.5.1.9621\n",
      "SN:          DLC  PRO+_040128\n",
      "uptime:  9406:04:42\n",
      "\n",
      "DeCoF  Command  Line\n"
     ]
    }
   ],
   "source": [
    "print(laser.welcome_msg)"
   ]
  },
  {
   "cell_type": "code",
   "execution_count": 10,
   "metadata": {},
   "outputs": [
    {
     "name": "stdout",
     "output_type": "stream",
     "text": [
      "\"CTL\"\n"
     ]
    }
   ],
   "source": [
    "print(laser.ask(\"(param-ref 'system-model)\"))"
   ]
  },
  {
   "cell_type": "code",
   "execution_count": 16,
   "metadata": {},
   "outputs": [],
   "source": [
    "end_msg_pattern = re.compile('\\n> ')"
   ]
  },
  {
   "cell_type": "code",
   "execution_count": 13,
   "metadata": {},
   "outputs": [
    {
     "data": {
      "text/plain": [
       "'b\\'\"CTL\"\\\\n> \\''"
      ]
     },
     "execution_count": 13,
     "metadata": {},
     "output_type": "execute_result"
    }
   ],
   "source": [
    "laser.visa_handle.write(\"(param-ref 'system-model)\")\n",
    "repr(laser.visa_handle.read_raw())"
   ]
  },
  {
   "cell_type": "code",
   "execution_count": 14,
   "metadata": {},
   "outputs": [
    {
     "data": {
      "text/plain": [
       "'\\'\"CTL\"\\\\n> \\''"
      ]
     },
     "execution_count": 14,
     "metadata": {},
     "output_type": "execute_result"
    }
   ],
   "source": [
    "laser.visa_handle.write(\"(param-ref 'system-model)\")\n",
    "repr(laser.visa_handle.read_raw().decode('utf8'))"
   ]
  },
  {
   "cell_type": "code",
   "execution_count": 31,
   "metadata": {},
   "outputs": [
    {
     "data": {
      "text/plain": [
       "'\"CTL\"'"
      ]
     },
     "execution_count": 31,
     "metadata": {},
     "output_type": "execute_result"
    }
   ],
   "source": [
    "laser.visa_handle.write(\"(param-ref 'system-model)\")\n",
    "end_msg_pattern.sub('', laser.visa_handle.read_raw().decode('utf8'))"
   ]
  },
  {
   "cell_type": "code",
   "execution_count": 17,
   "metadata": {},
   "outputs": [
    {
     "data": {
      "text/plain": [
       "'\\'\"CTL\"\\''"
      ]
     },
     "execution_count": 17,
     "metadata": {},
     "output_type": "execute_result"
    }
   ],
   "source": [
    "laser.visa_handle.write(\"(param-ref 'system-model)\")\n",
    "repr(end_msg_pattern.sub('', laser.visa_handle.read_raw().decode('utf8')))"
   ]
  },
  {
   "cell_type": "code",
   "execution_count": 18,
   "metadata": {},
   "outputs": [
    {
     "name": "stdout",
     "output_type": "stream",
     "text": [
      "\"CTL\"\n"
     ]
    }
   ],
   "source": [
    "laser.visa_handle.write(\"(param-ref 'system-model)\")\n",
    "print(end_msg_pattern.sub('', laser.visa_handle.read_raw().decode('utf8')))"
   ]
  },
  {
   "cell_type": "code",
   "execution_count": 30,
   "metadata": {},
   "outputs": [
    {
     "data": {
      "text/plain": [
       "'952.95416214393606'"
      ]
     },
     "execution_count": 30,
     "metadata": {},
     "output_type": "execute_result"
    }
   ],
   "source": [
    "laser.visa_handle.write(\"(param-ref 'laser1:ctl:wavelength-set)\")\n",
    "end_msg_pattern.sub('', laser.visa_handle.read_raw().decode('utf8'))"
   ]
  },
  {
   "cell_type": "code",
   "execution_count": 34,
   "metadata": {},
   "outputs": [
    {
     "data": {
      "text/plain": [
       "'952.95416214393606'"
      ]
     },
     "execution_count": 34,
     "metadata": {},
     "output_type": "execute_result"
    }
   ],
   "source": [
    "laser.ask(\"(param-ref 'laser1:ctl:wavelength-set)\")"
   ]
  },
  {
   "cell_type": "code",
   "execution_count": null,
   "metadata": {},
   "outputs": [],
   "source": [
    "laser.close()"
   ]
  },
  {
   "cell_type": "code",
   "execution_count": null,
   "metadata": {},
   "outputs": [],
   "source": []
  }
 ],
 "metadata": {
  "kernelspec": {
   "display_name": "Python 3",
   "language": "python",
   "name": "python3"
  },
  "language_info": {
   "codemirror_mode": {
    "name": "ipython",
    "version": 3
   },
   "file_extension": ".py",
   "mimetype": "text/x-python",
   "name": "python",
   "nbconvert_exporter": "python",
   "pygments_lexer": "ipython3",
   "version": "3.6.7"
  }
 },
 "nbformat": 4,
 "nbformat_minor": 2
}
